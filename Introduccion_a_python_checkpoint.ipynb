{
  "cells": [
    {
      "cell_type": "markdown",
      "metadata": {
        "id": "0p_kgaMFIhHm"
      },
      "source": [
        "# INTRODUCCION A PYTHON\n",
        "\n",
        "*   List item\n",
        "*   List item\n",
        "\n",
        "\n",
        "\n",
        "🐍🐍🐍🐍🐍\n",
        "\n",
        "Python es un _lenguaje de programación orientado a objetos_ (POO) de sintaxis sencilla, de alto nivel, interpretado y de propósito general. Fue creado por Guido van Rossum y su primera versión fue lanzada en 1991. Desde entonces, Python ha experimentado un crecimiento significativo en popularidad y se ha convertido en uno de los lenguajes de programación más utilizados en el mundo.\n",
        "\n",
        "Los dos motivos principales que han generado un creciente uso de Python en el campo del análisis de datos son:\n",
        "\n",
        "+ Las **numerosas bibliotecas** creadas para esta finalidad como:\n",
        "    + _Numpy_ y _Pandas_ que implementan funciones para cálculos matemáticos y estadísticos.\n",
        "    + _Scikit-learn_ con algoritmos de aprendizaje automatizado (ML).\n",
        "    + _Matplotlib_ que permite la visualización y representación gráfica de los datos.\n",
        "    \n",
        "    \n",
        "+ Su integración con aplicaciones como _MongoDB_ (base de datos no relacional), _Hadoop_ o _Pentaho_.\n",
        "\n"
      ]
    },
    {
      "cell_type": "markdown",
      "metadata": {
        "id": "XBflCIWxIhHo"
      },
      "source": [
        "## IDENTIFICADORES\n",
        "\n",
        "En programación, un identificador es un nombre que se utiliza para identificar una entidad en el código fuente. Estas entidades pueden ser variables, funciones, clases, módulos u otros elementos del programa."
      ]
    },
    {
      "cell_type": "markdown",
      "metadata": {
        "id": "jHbT7Q5xIhHo"
      },
      "source": [
        " ### Reglas específicas para nombrar identificadores:\n",
        "\n",
        " **1.- Composición del nombre:**\n",
        "\n",
        "Pueden contener letras (mayúsculas y minúsculas), dígitos y guiones bajos (_).\n",
        "El primer carácter no puede ser un número.\n",
        "\n",
        " **2.- Sensibilidad a mayúsculas y minúsculas**\n",
        "\n",
        " **3.- No palabras reservadas**\n",
        "\n",
        " **4.- Convenio de PEP 8:**\n",
        "\n",
        "PEP 8 es una guía de estilo para el código en Python. Según PEP 8:\n",
        "\n",
        "Los identificadores deben ser descriptivos y seguir una convención de estilo que utilice minúsculas y guiones bajos para separar palabras (snake_case). Por ejemplo, **mi_variable**.\n",
        "\n",
        "Las constantes deben estar en mayúsculas con guiones bajos (por ejemplo, **MI_CONSTANTE**).\n",
        "\n",
        "**5.- Evitar caracteres especiales**"
      ]
    },
    {
      "cell_type": "code",
      "execution_count": null,
      "metadata": {
        "id": "DQU19iqFIhHr"
      },
      "outputs": [],
      "source": []
    },
    {
      "cell_type": "code",
      "execution_count": null,
      "metadata": {
        "id": "OZZn-v92IhHt"
      },
      "outputs": [],
      "source": []
    },
    {
      "cell_type": "code",
      "execution_count": null,
      "metadata": {
        "id": "t55D3xpKIhHt"
      },
      "outputs": [],
      "source": []
    },
    {
      "cell_type": "code",
      "execution_count": null,
      "metadata": {
        "id": "Q9cu6jKkIhHt"
      },
      "outputs": [],
      "source": []
    },
    {
      "cell_type": "code",
      "execution_count": null,
      "metadata": {
        "id": "z5zka8jnIhHu"
      },
      "outputs": [],
      "source": []
    },
    {
      "cell_type": "markdown",
      "metadata": {
        "id": "AnU15iZOIhHu"
      },
      "source": [
        "## Tipos de identificadores\n",
        "\n",
        "**Constantes:** Un dato que no cambia durante la ejecucion del programa\n",
        "\n",
        "**Variables:** Un dato que si cambia durante la ejecucion del programa"
      ]
    },
    {
      "cell_type": "markdown",
      "metadata": {
        "id": "Pr0FGTCiIhHu"
      },
      "source": [
        "## TIPOS DE DATOS\n",
        "\n",
        "Los datos hacen referencia al tipo de información que se trabaja. El tipo de dato determina la naturaleza del conjunto de valores que puede tomar una variable o constante.\n",
        "\n",
        "Números: Representan valores numéricos.\n",
        "\n",
        "Cadenas de texto: Secuencias de caracteres que representan texto.\n",
        "\n",
        "Lógicos: Representan valores de verdad o falsedad.\n",
        "\n",
        "Estructuras de datos: Incluyen listas, conjuntos, diccionarios, y otros tipos de colecciones que pueden contener varios elementos.\n",
        "\n",
        "Objetos: Instancias de clases en lenguajes de programación orientados a objetos.\n",
        "\n",
        "Imágenes, sonidos, y otros tipos de archivos multimedia: Representan datos complejos como imágenes, archivos de audio, etc."
      ]
    },
    {
      "cell_type": "code",
      "execution_count": null,
      "metadata": {
        "id": "eulGYb70IhHu",
        "outputId": "e30667e0-66b6-47fd-e0ac-275b4ed5ee6e"
      },
      "outputs": [
        {
          "name": "stdout",
          "output_type": "stream",
          "text": [
            "Números:  10 8 1.5 2.1\n",
            "Cadenas de Texto:  'Hola Mundo'\n",
            "Lógicos:  True False\n",
            "Estructuras:  [2, 3, 4]\n",
            "Objetos:  3.141592653589793\n"
          ]
        }
      ],
      "source": [
        "import math\n",
        "\n",
        "print(\"Números: \", 10,8,1.5,2.1)\n",
        "print(\"Cadenas de Texto: \", \"'Hola Mundo'\")\n",
        "print(\"Lógicos: \",True,False)\n",
        "print(\"Estructuras: \", [2,3,4])\n",
        "print(\"Objetos: \",math.pi )"
      ]
    },
    {
      "cell_type": "markdown",
      "metadata": {
        "id": "jrvnhM-wIhHv"
      },
      "source": [
        "Hay diversos tipos de datos en Python:\n",
        "+ Enteros (int) Z\n",
        "+ Floats (float)\n",
        "+ Strings (Palabras. Se escriben entre comillas dobles \"string\" o entre comillas simples 'string')\n",
        "+ Booleanos (Verdaderos y Falsos)\n",
        "+ Otros: Numeros Complejos (3+7i), fecha y hora, etc.\n"
      ]
    },
    {
      "cell_type": "markdown",
      "metadata": {
        "id": "F7ydu6S5IhHv"
      },
      "source": [
        "\n",
        "\n",
        "```\n",
        "# This is formatted as code\n",
        "```\n",
        "\n",
        "## OPERADORES\n",
        "\n",
        "Elementos que relacionan de forma diferente los valores de una o mas variables. Nos permiten manipular valores"
      ]
    },
    {
      "cell_type": "markdown",
      "metadata": {
        "id": "54A8sdjoIhHv"
      },
      "source": [
        "**Operadores de asignación**\n",
        "\n",
        "Atribuir un valor a una variable"
      ]
    },
    {
      "cell_type": "code",
      "execution_count": null,
      "metadata": {
        "id": "GwZ2EUxXIhHv",
        "outputId": "9cdfaf30-8306-44af-f7e4-d6483cd92cb5"
      },
      "outputs": [
        {
          "name": "stdout",
          "output_type": "stream",
          "text": [
            "23\n"
          ]
        }
      ],
      "source": [
        "mi_variable = 23\n",
        "print(mi_variable)"
      ]
    },
    {
      "cell_type": "markdown",
      "metadata": {
        "id": "74OnXL1oIhHv"
      },
      "source": [
        " **Operadores aritméticos**\n",
        "\n",
        "Estos operadores permiten realizar cálculos numéricos\n",
        "\n",
        "Suma (+)\n",
        "\n",
        "\n",
        "Resta (-)\n",
        "\n",
        "\n",
        "Multiplicación (*)\n",
        "\n",
        "\n",
        "División (/)\n",
        "\n"
      ]
    },
    {
      "cell_type": "code",
      "execution_count": null,
      "metadata": {
        "id": "3HtEOdXTIhHv",
        "outputId": "c310f5ec-5493-45bf-8cae-f9aca25289d9"
      },
      "outputs": [
        {
          "name": "stdout",
          "output_type": "stream",
          "text": [
            "10\n",
            "-5\n",
            "25\n",
            "125\n",
            "3.0\n"
          ]
        }
      ],
      "source": [
        "print(5+5)\n",
        "print(5-10)\n",
        "print(5*5)\n",
        "print(5**3)\n",
        "print(15/5)"
      ]
    },
    {
      "cell_type": "markdown",
      "metadata": {
        "id": "eGFeKaMJIhHw"
      },
      "source": [
        "**Operadores relacionales**\n",
        "\n",
        "Compara 2 valores entre si y este produce un resultado de certeza o falsedad\n",
        "\n",
        "Comparan valores del mismo tipo\n",
        "\n",
        "Tienen menor prioridad que los aritméticos en su evaluación\n",
        "\n",
        "\n",
        "\n",
        "Mayor que (>): Comprueba si el primer valor es mayor que el segundo.\n",
        "\n",
        "\n",
        "Menor que (<): Comprueba si el primer valor es menor que el segundo.\n",
        "\n",
        "\n",
        "Mayor o igual que (>=): Comprueba si el primer valor es mayor o igual al segundo.\n",
        "\n",
        "\n",
        "Menor o igual que (<=): Comprueba si el primer valor es menor o igual al segundo.\n",
        "\n",
        "Igual a (==): Comprueba si dos valores son iguales.\n",
        "\n",
        "\n",
        "Diferente de (!=): Comprueba si dos valores no son iguales.\n",
        "\n"
      ]
    },
    {
      "cell_type": "code",
      "execution_count": null,
      "metadata": {
        "id": "PE4JLwD0IhHw",
        "outputId": "1762dfae-039a-4973-bc87-2cdb8305b9f6"
      },
      "outputs": [
        {
          "name": "stdout",
          "output_type": "stream",
          "text": [
            "False\n",
            "True\n",
            "False\n",
            "True\n",
            "False\n",
            "True\n"
          ]
        }
      ],
      "source": [
        "print(5<4)\n",
        "print(5>4)\n",
        "print(5==4)\n",
        "print(\"Bernardo\" == \"Bernardo\")\n",
        "print(\"Bernardo\" == \"bernardo\")\n",
        "print([1,2,3]!=[4,5,6])"
      ]
    },
    {
      "cell_type": "markdown",
      "metadata": {
        "id": "qsw-1zo8IhHw"
      },
      "source": [
        "**Operadores Lógicos**\n",
        "\n",
        "Establece una relación entre valores lógicos. Estos valores pueden ser resultado de un operador relacional\n",
        "\n",
        "AND (and o &&): Devuelve True si ambas expresiones son verdaderas.\n",
        "\n",
        "OR (or o ||): Devuelve True si al menos una de las expresiones es verdadera.\n",
        "\n",
        "NOT (not o !): Invierte el valor de la expresión, devuelve True si la expresión es falsa y viceversa.\n"
      ]
    },
    {
      "cell_type": "code",
      "execution_count": null,
      "metadata": {
        "id": "0YD40PjLIhHw",
        "outputId": "4d184807-f559-4cc4-84e7-79cd8bb9f46e"
      },
      "outputs": [
        {
          "name": "stdout",
          "output_type": "stream",
          "text": [
            "True\n",
            "True\n",
            "False\n"
          ]
        }
      ],
      "source": [
        "print(True & True)\n",
        "print(True or True)\n",
        "print(not(True and True))"
      ]
    },
    {
      "cell_type": "markdown",
      "metadata": {
        "id": "Q3MM12HrIhHw"
      },
      "source": [
        "## FUNCIONES INTERNAS\n",
        "\n",
        "las funciones internas (built-in functions) son funciones predefinidas que están disponibles en el intérprete de Python sin necesidad de importar módulos adicionales. Estas funciones proporcionan funcionalidades básicas y esenciales que pueden ser utilizadas en cualquier programa Python."
      ]
    },
    {
      "cell_type": "markdown",
      "metadata": {
        "id": "zH9afYOVIhHw"
      },
      "source": [
        "**Entrada de Datos:**\n",
        "\n",
        "Para recibir datos desde el usuario, puedes utilizar la función input(). Esta función lee una línea de entrada desde la consola y devuelve una cadena de caracteres. input()"
      ]
    },
    {
      "cell_type": "code",
      "execution_count": null,
      "metadata": {
        "id": "_xvZL0WVIhHw",
        "outputId": "d258af1b-4d03-4efa-ea10-b5df77138ff1"
      },
      "outputs": [
        {
          "name": "stdout",
          "output_type": "stream",
          "text": [
            "Ingrese una palabra: Hola\n"
          ]
        }
      ],
      "source": [
        "Variable = input(\"Ingrese una palabra: \")"
      ]
    },
    {
      "cell_type": "markdown",
      "metadata": {
        "id": "-maGneG5IhHw"
      },
      "source": [
        "**Salida de Datos:**\n",
        "\n",
        "La función print() se utiliza para mostrar información en la consola."
      ]
    },
    {
      "cell_type": "code",
      "execution_count": null,
      "metadata": {
        "id": "F0SZrmWFIhHw",
        "outputId": "34a77956-ead8-430e-8ac3-4a777922ae28"
      },
      "outputs": [
        {
          "name": "stdout",
          "output_type": "stream",
          "text": [
            "La variable ingresada es:  Hola\n"
          ]
        }
      ],
      "source": [
        "print(\"La variable ingresada es: \",Variable)"
      ]
    },
    {
      "cell_type": "markdown",
      "metadata": {
        "id": "3JqM2goyIhHx"
      },
      "source": [
        "Como observamos es sencillo trabajar con operaciones básicas al igual que con strings.\n",
        "\n",
        "## Ejercicios\n",
        "\n",
        "Generen un mensaje de 3 líneas con salto de línea \\n (caracter de salto de linea)"
      ]
    },
    {
      "cell_type": "code",
      "execution_count": null,
      "metadata": {
        "id": "DePK8-CWIhHx",
        "outputId": "d960348a-b658-4897-880e-7ab16e201c2b"
      },
      "outputs": [
        {
          "name": "stdout",
          "output_type": "stream",
          "text": [
            "Hola \n",
            "mundo\n"
          ]
        }
      ],
      "source": [
        "print(\"Hola \\nmundo\")"
      ]
    },
    {
      "cell_type": "code",
      "execution_count": null,
      "metadata": {
        "id": "MkhdvsOBIhHx",
        "outputId": "08b47e5e-8b27-4f11-8624-6ad35ca8f0ef"
      },
      "outputs": [
        {
          "name": "stdout",
          "output_type": "stream",
          "text": [
            "Hola \tmundo\n"
          ]
        }
      ],
      "source": [
        "print(\"Hola \\tmundo\")"
      ]
    },
    {
      "cell_type": "code",
      "execution_count": null,
      "metadata": {
        "id": "MFvGjB-YIhHx"
      },
      "outputs": [],
      "source": []
    },
    {
      "cell_type": "markdown",
      "metadata": {
        "id": "TmPCEui_IhHx"
      },
      "source": [
        "Escribe un programa que calcule el area de un circulo donde el usuario ingrese el radio."
      ]
    },
    {
      "cell_type": "code",
      "execution_count": null,
      "metadata": {
        "id": "oK7IA5pjIhHx",
        "outputId": "c5925ef5-7427-4dcb-af2b-931ba1fe3a2c"
      },
      "outputs": [
        {
          "name": "stdout",
          "output_type": "stream",
          "text": [
            "Ingrese el radio: 2.5\n",
            "El área es:  19.634954084936208\n"
          ]
        }
      ],
      "source": [
        "radio = input(\"Ingrese el radio: \")\n",
        "area = math.pi*float(radio)**2\n",
        "print(\"El área es: \", area)"
      ]
    },
    {
      "cell_type": "markdown",
      "metadata": {
        "id": "9V4jhzfcIhHx"
      },
      "source": [
        "----"
      ]
    },
    {
      "cell_type": "markdown",
      "metadata": {
        "id": "Ysv1ekyeIhHx"
      },
      "source": [
        "## Listas\n",
        "Son conjuntos de datos que tienen __un orden__, empiezan su índice con el número 0, son mutables y dinamicas"
      ]
    },
    {
      "cell_type": "code",
      "execution_count": null,
      "metadata": {
        "id": "nUUUPRrYIhHx",
        "outputId": "90057deb-a974-4fdd-ac4c-f49a3f9892c5"
      },
      "outputs": [
        {
          "data": {
            "text/plain": [
              "[1, 2, 3, 'gato', [1, 2]]"
            ]
          },
          "execution_count": 11,
          "metadata": {},
          "output_type": "execute_result"
        }
      ],
      "source": [
        "mi_lista_cero = [1,2,3,'gato',[1,2]]\n",
        "mi_lista_cero"
      ]
    },
    {
      "cell_type": "raw",
      "metadata": {
        "id": "uNtGgUCaIhHx"
      },
      "source": [
        "Asi es el acceso a los elementos de un objeto\n",
        "+---+---+---+---+---+---+\n",
        " | P | y | t | h | o | n |\n",
        " +---+---+---+---+---+---+\n",
        "   0   1   2   3   4   5\n",
        "  -6  -5  -4  -3  -2  -1"
      ]
    },
    {
      "cell_type": "code",
      "execution_count": null,
      "metadata": {
        "id": "38Zphp9hIhHx",
        "outputId": "377496e8-7d5f-48f8-a51f-d67fed9e2e34"
      },
      "outputs": [
        {
          "data": {
            "text/plain": [
              "[3, 'OTRA LISTA']"
            ]
          },
          "execution_count": 12,
          "metadata": {},
          "output_type": "execute_result"
        }
      ],
      "source": [
        "# La lista en Python son variables que almacenan arrays,\n",
        "# internamente cada posicion puede ser un tipo de datos distinto.\n",
        "mi_primera_lista =  [1, 'ML', [3,'OTRA LISTA']]\n",
        "mi_primera_lista[2]"
      ]
    },
    {
      "cell_type": "code",
      "execution_count": null,
      "metadata": {
        "id": "cwyNBGsLIhHy",
        "outputId": "fa85f389-2c68-43c7-9562-ef0a12200c99"
      },
      "outputs": [
        {
          "data": {
            "text/plain": [
              "'OTRA LISTA'"
            ]
          },
          "execution_count": 13,
          "metadata": {},
          "output_type": "execute_result"
        }
      ],
      "source": [
        "mi_primera_lista[2][1]"
      ]
    },
    {
      "cell_type": "code",
      "execution_count": null,
      "metadata": {
        "id": "355_AjmGIhHy",
        "outputId": "4d5e18f2-f578-463a-eaec-5e8e4110d171"
      },
      "outputs": [
        {
          "data": {
            "text/plain": [
              "str"
            ]
          },
          "execution_count": 14,
          "metadata": {},
          "output_type": "execute_result"
        }
      ],
      "source": [
        "type(mi_primera_lista[2][1])"
      ]
    },
    {
      "cell_type": "code",
      "execution_count": null,
      "metadata": {
        "id": "0bGa1j64IhH2",
        "outputId": "afaf31c8-b277-4b25-8831-9bbab14ad83b"
      },
      "outputs": [
        {
          "data": {
            "text/plain": [
              "'R'"
            ]
          },
          "execution_count": 15,
          "metadata": {},
          "output_type": "execute_result"
        }
      ],
      "source": [
        "mi_primera_lista[2][1][2]"
      ]
    },
    {
      "cell_type": "code",
      "execution_count": null,
      "metadata": {
        "id": "TZ0S6chUIhH3",
        "outputId": "bf6b3b5b-f90f-4468-be61-2272c8460526"
      },
      "outputs": [
        {
          "data": {
            "text/plain": [
              "[1, 2, 3]"
            ]
          },
          "execution_count": 16,
          "metadata": {},
          "output_type": "execute_result"
        }
      ],
      "source": [
        "lista = [1,2,3]\n",
        "lista"
      ]
    },
    {
      "cell_type": "code",
      "execution_count": null,
      "metadata": {
        "id": "cDlRGxdAIhH3",
        "outputId": "1126d68e-b860-4031-d1eb-15612437269b"
      },
      "outputs": [
        {
          "data": {
            "text/plain": [
              "[[1, 2, 3], [4, 5, 6], [7, 8, 9]]"
            ]
          },
          "execution_count": 17,
          "metadata": {},
          "output_type": "execute_result"
        }
      ],
      "source": [
        "# Creando una matriz\n",
        "[[1,2,3],[4,5,6],[7,8,9]]"
      ]
    },
    {
      "cell_type": "code",
      "execution_count": null,
      "metadata": {
        "id": "8WSkig3aIhH3",
        "outputId": "dfdb4417-8f75-43e5-a492-a4b54e93a48a"
      },
      "outputs": [
        {
          "data": {
            "text/plain": [
              "[0, 15, [25, 357, 45]]"
            ]
          },
          "execution_count": 18,
          "metadata": {},
          "output_type": "execute_result"
        }
      ],
      "source": [
        "# Lista de listas\n",
        "lista = [25,357,45]\n",
        "lista1 = [0,15,lista]\n",
        "lista1"
      ]
    },
    {
      "cell_type": "code",
      "execution_count": null,
      "metadata": {
        "id": "8KfZ1ed2IhH3",
        "outputId": "60f4325f-20a7-4756-a8c6-3a1968f6c588"
      },
      "outputs": [
        {
          "data": {
            "text/plain": [
              "357"
            ]
          },
          "execution_count": 19,
          "metadata": {},
          "output_type": "execute_result"
        }
      ],
      "source": [
        "# Accediendo a la lista\n",
        "lista1[2][1]"
      ]
    },
    {
      "cell_type": "code",
      "execution_count": null,
      "metadata": {
        "id": "qOSOnIFOIhH3",
        "outputId": "37cf2e36-4931-4139-95f3-14ca2e90177a"
      },
      "outputs": [
        {
          "data": {
            "text/plain": [
              "'OTRA LISTA'"
            ]
          },
          "execution_count": 20,
          "metadata": {},
          "output_type": "execute_result"
        }
      ],
      "source": [
        "mi_primera_lista[2][1]"
      ]
    },
    {
      "cell_type": "code",
      "execution_count": null,
      "metadata": {
        "id": "uJA8KsgSIhH3",
        "outputId": "6e5a850b-2bf9-4595-c0c8-9824c0d6188c"
      },
      "outputs": [
        {
          "data": {
            "text/plain": [
              "'RA LI'"
            ]
          },
          "execution_count": 21,
          "metadata": {},
          "output_type": "execute_result"
        }
      ],
      "source": [
        "# slices\n",
        "mi_primera_lista[2][1][2:7]"
      ]
    },
    {
      "cell_type": "code",
      "execution_count": null,
      "metadata": {
        "id": "wTs46sfEIhH3",
        "outputId": "a433bb82-8816-4b9f-f928-922ce166babc"
      },
      "outputs": [
        {
          "data": {
            "text/plain": [
              "1"
            ]
          },
          "execution_count": 22,
          "metadata": {},
          "output_type": "execute_result"
        }
      ],
      "source": [
        "# método de listas contar valor\n",
        "\n",
        "lista1.count(15) # método count es para contar el elemento adentro de count"
      ]
    },
    {
      "cell_type": "code",
      "execution_count": null,
      "metadata": {
        "id": "7eOZ6ZgcIhH4",
        "outputId": "8f600464-e97f-4e78-ab71-0870bd9e7280"
      },
      "outputs": [
        {
          "data": {
            "text/plain": [
              "0"
            ]
          },
          "execution_count": 23,
          "metadata": {},
          "output_type": "execute_result"
        }
      ],
      "source": [
        "lista.count(7)"
      ]
    },
    {
      "cell_type": "code",
      "execution_count": null,
      "metadata": {
        "id": "09bI7sP7IhH4"
      },
      "outputs": [],
      "source": [
        "lista_nueva = [0,0,1,1,2,2,3,3,4,4,4,4,4,4,5,6,7]"
      ]
    },
    {
      "cell_type": "code",
      "execution_count": null,
      "metadata": {
        "id": "RtuPjUn6IhH4",
        "outputId": "0d788635-04c3-460a-c93f-5535f0f4eddf"
      },
      "outputs": [
        {
          "data": {
            "text/plain": [
              "17"
            ]
          },
          "execution_count": 25,
          "metadata": {},
          "output_type": "execute_result"
        }
      ],
      "source": [
        "len(lista_nueva)"
      ]
    },
    {
      "cell_type": "code",
      "execution_count": null,
      "metadata": {
        "id": "tVAKSHwoIhH4",
        "outputId": "907376ef-0f66-4e70-f9d2-1a177dc13850"
      },
      "outputs": [
        {
          "data": {
            "text/plain": [
              "7"
            ]
          },
          "execution_count": 26,
          "metadata": {},
          "output_type": "execute_result"
        }
      ],
      "source": [
        "# Remover valor siguiendo el índice\n",
        "lista_nueva.pop(-1)"
      ]
    },
    {
      "cell_type": "code",
      "execution_count": null,
      "metadata": {
        "id": "q_k3Ii1mIhH4",
        "outputId": "f70498c5-5927-4337-e436-b26ff6865377"
      },
      "outputs": [
        {
          "data": {
            "text/plain": [
              "[0, 0, 1, 1, 2, 2, 3, 3, 4, 4, 4, 4, 4, 4, 5, 6]"
            ]
          },
          "execution_count": 27,
          "metadata": {},
          "output_type": "execute_result"
        }
      ],
      "source": [
        "lista_nueva"
      ]
    },
    {
      "cell_type": "code",
      "execution_count": null,
      "metadata": {
        "id": "THv95eSIIhH4",
        "outputId": "2f884fb2-a45b-4934-b682-a83ad686ac0c"
      },
      "outputs": [
        {
          "data": {
            "text/plain": [
              "1"
            ]
          },
          "execution_count": 28,
          "metadata": {},
          "output_type": "execute_result"
        }
      ],
      "source": [
        "lista_nueva.pop(2)"
      ]
    },
    {
      "cell_type": "code",
      "execution_count": null,
      "metadata": {
        "id": "8kyVYfGFIhH4",
        "outputId": "5fc782cd-409e-4d95-cbe1-ea94e004922a"
      },
      "outputs": [
        {
          "data": {
            "text/plain": [
              "[0, 0, 1, 2, 2, 3, 3, 4, 4, 4, 4, 4, 4, 5, 6]"
            ]
          },
          "execution_count": 29,
          "metadata": {},
          "output_type": "execute_result"
        }
      ],
      "source": [
        "lista_nueva"
      ]
    },
    {
      "cell_type": "code",
      "execution_count": null,
      "metadata": {
        "id": "0eHNJTB8IhH4"
      },
      "outputs": [],
      "source": [
        "# Remover primer valor con el valor indicado\n",
        "lista_nueva.remove(2)"
      ]
    },
    {
      "cell_type": "code",
      "execution_count": null,
      "metadata": {
        "id": "IgL_IEQfIhH4",
        "outputId": "ac148587-9b25-40d3-a817-f6542e1407bc"
      },
      "outputs": [
        {
          "data": {
            "text/plain": [
              "[0, 0, 1, 2, 3, 3, 4, 4, 4, 4, 4, 4, 5, 6]"
            ]
          },
          "execution_count": 31,
          "metadata": {},
          "output_type": "execute_result"
        }
      ],
      "source": [
        "lista_nueva"
      ]
    },
    {
      "cell_type": "code",
      "execution_count": null,
      "metadata": {
        "id": "4bsDEgTbIhH4"
      },
      "outputs": [],
      "source": [
        "# Inserta elemento a la lista en la posición cero con el valor 10\n",
        "lista_nueva.insert(0, 10)"
      ]
    },
    {
      "cell_type": "code",
      "execution_count": null,
      "metadata": {
        "id": "P7TonytVIhH4",
        "outputId": "03039183-15f8-4463-f484-47368e0bbccb"
      },
      "outputs": [
        {
          "data": {
            "text/plain": [
              "[10, 0, 0, 1, 2, 3, 3, 4, 4, 4, 4, 4, 4, 5, 6]"
            ]
          },
          "execution_count": 33,
          "metadata": {},
          "output_type": "execute_result"
        }
      ],
      "source": [
        "lista_nueva #imprimo nuevo valor de la lista"
      ]
    },
    {
      "cell_type": "code",
      "execution_count": null,
      "metadata": {
        "id": "ib7hQQ9IIhH4"
      },
      "outputs": [],
      "source": [
        "# Apilar el valor en el último lugar\n",
        "lista_nueva.append(7)"
      ]
    },
    {
      "cell_type": "code",
      "execution_count": null,
      "metadata": {
        "id": "CZ50gz91IhH4",
        "outputId": "375c345b-c345-4ec1-edf2-0e8b132f9c5d"
      },
      "outputs": [
        {
          "data": {
            "text/plain": [
              "[10, 0, 0, 1, 2, 3, 3, 4, 4, 4, 4, 4, 4, 5, 6, 7]"
            ]
          },
          "execution_count": 35,
          "metadata": {},
          "output_type": "execute_result"
        }
      ],
      "source": [
        "lista_nueva"
      ]
    },
    {
      "cell_type": "code",
      "execution_count": null,
      "metadata": {
        "id": "hrFSKM_WIhH4"
      },
      "outputs": [],
      "source": [
        "# Agrego valores de lista a una lista ya hecha\n",
        "lista_nueva.extend([5,7,3])"
      ]
    },
    {
      "cell_type": "code",
      "execution_count": null,
      "metadata": {
        "id": "yb1xe62rIhH4",
        "outputId": "77c8699f-7a3d-48bd-b4d6-8a357c5dea27"
      },
      "outputs": [
        {
          "data": {
            "text/plain": [
              "[10, 0, 0, 1, 2, 3, 3, 4, 4, 4, 4, 4, 4, 5, 6, 7, 5, 7, 3]"
            ]
          },
          "execution_count": 37,
          "metadata": {},
          "output_type": "execute_result"
        }
      ],
      "source": [
        "lista_nueva"
      ]
    },
    {
      "cell_type": "code",
      "execution_count": null,
      "metadata": {
        "id": "PqDC9kauIhH5"
      },
      "outputs": [],
      "source": [
        "lista_nueva.append([5,7,3])"
      ]
    },
    {
      "cell_type": "code",
      "execution_count": null,
      "metadata": {
        "id": "qfLRhDtpIhH5",
        "outputId": "bb4cd611-5d05-468a-e6ae-7ba86ec03d25"
      },
      "outputs": [
        {
          "data": {
            "text/plain": [
              "[10, 0, 0, 1, 2, 3, 3, 4, 4, 4, 4, 4, 4, 5, 6, 7, 5, 7, 3, [5, 7, 3]]"
            ]
          },
          "execution_count": 39,
          "metadata": {},
          "output_type": "execute_result"
        }
      ],
      "source": [
        "lista_nueva"
      ]
    },
    {
      "cell_type": "markdown",
      "metadata": {
        "hide_input": true,
        "id": "NSga6B4TIhH5"
      },
      "source": [
        "## Ejercicio\n",
        "\n",
        "+ _Crear lista con tres elementos_\n",
        "+ agregar elemento\n",
        "+ quitan el primer elemento"
      ]
    },
    {
      "cell_type": "markdown",
      "metadata": {
        "id": "G_xK1RSyIhH5"
      },
      "source": [
        "----"
      ]
    },
    {
      "cell_type": "code",
      "execution_count": null,
      "metadata": {
        "id": "WwM-oS10IhH5"
      },
      "outputs": [],
      "source": [
        "ListaBernardo = [1,2,3]"
      ]
    },
    {
      "cell_type": "code",
      "execution_count": null,
      "metadata": {
        "id": "VnJJg4noIhH5"
      },
      "outputs": [],
      "source": [
        "ListaBernardo.insert(2,2.5)"
      ]
    },
    {
      "cell_type": "code",
      "execution_count": null,
      "metadata": {
        "id": "AFYSIbhSIhH5",
        "outputId": "12f1259d-3744-431e-fa0d-396b154f433e"
      },
      "outputs": [
        {
          "data": {
            "text/plain": [
              "1"
            ]
          },
          "execution_count": 42,
          "metadata": {},
          "output_type": "execute_result"
        }
      ],
      "source": [
        "ListaBernardo.pop(0)"
      ]
    },
    {
      "cell_type": "code",
      "execution_count": null,
      "metadata": {
        "id": "_aTvzzxnIhH5",
        "outputId": "87ffa6cc-25fd-45c8-f13f-2a3d0b417f5d"
      },
      "outputs": [
        {
          "data": {
            "text/plain": [
              "[2, 2.5, 3]"
            ]
          },
          "execution_count": 43,
          "metadata": {},
          "output_type": "execute_result"
        }
      ],
      "source": [
        "ListaBernardo"
      ]
    },
    {
      "cell_type": "markdown",
      "metadata": {
        "id": "kyI1dVPLIhH5"
      },
      "source": [
        "## Tuplas\n",
        "Lista __inmutable__"
      ]
    },
    {
      "cell_type": "code",
      "execution_count": null,
      "metadata": {
        "id": "t8ELXeuvIhH5"
      },
      "outputs": [],
      "source": [
        "# ¿A qué se refiere con inmutable?\n",
        "mi_primer_tupla = (1,2,3)"
      ]
    },
    {
      "cell_type": "code",
      "execution_count": null,
      "metadata": {
        "id": "OpeeU598IhH6",
        "outputId": "b317898f-99fb-40fb-c640-3d5376dfd85a"
      },
      "outputs": [
        {
          "data": {
            "text/plain": [
              "(1, 2, 3)"
            ]
          },
          "execution_count": 45,
          "metadata": {},
          "output_type": "execute_result"
        }
      ],
      "source": [
        "mi_primer_tupla"
      ]
    },
    {
      "cell_type": "code",
      "execution_count": null,
      "metadata": {
        "id": "bvZyjsvsIhH6",
        "outputId": "a8b4ced8-1529-42f1-ebbf-841d0f6a54e2"
      },
      "outputs": [
        {
          "data": {
            "text/plain": [
              "[1, 'ML', [3, 'OTRA LISTA']]"
            ]
          },
          "execution_count": 46,
          "metadata": {},
          "output_type": "execute_result"
        }
      ],
      "source": [
        "mi_primera_lista"
      ]
    },
    {
      "cell_type": "code",
      "execution_count": null,
      "metadata": {
        "id": "VOgUVzcwIhH6"
      },
      "outputs": [],
      "source": [
        "mi_primera_lista[0] = 1000"
      ]
    },
    {
      "cell_type": "code",
      "execution_count": null,
      "metadata": {
        "id": "sdyEgYysIhH6",
        "outputId": "b65b29c1-a10c-4638-fc5c-24b394a8e137"
      },
      "outputs": [
        {
          "data": {
            "text/plain": [
              "[1000, 'ML', [3, 'OTRA LISTA']]"
            ]
          },
          "execution_count": 48,
          "metadata": {},
          "output_type": "execute_result"
        }
      ],
      "source": [
        "mi_primera_lista"
      ]
    },
    {
      "cell_type": "code",
      "execution_count": null,
      "metadata": {
        "id": "TUsCLkP2IhH6",
        "outputId": "48bb8295-834f-4ad9-c4c7-a731e5f915f5"
      },
      "outputs": [
        {
          "data": {
            "text/plain": [
              "(1, 2, 3)"
            ]
          },
          "execution_count": 49,
          "metadata": {},
          "output_type": "execute_result"
        }
      ],
      "source": [
        "mi_primer_tupla"
      ]
    },
    {
      "cell_type": "code",
      "execution_count": null,
      "metadata": {
        "id": "DCD8FMUeIhH6",
        "outputId": "075b0b8d-a09f-4452-8d70-ac46d70def61"
      },
      "outputs": [
        {
          "data": {
            "text/plain": [
              "2"
            ]
          },
          "execution_count": 50,
          "metadata": {},
          "output_type": "execute_result"
        }
      ],
      "source": [
        "mi_primer_tupla[1]"
      ]
    },
    {
      "cell_type": "code",
      "execution_count": null,
      "metadata": {
        "id": "NttigqsVIhH6",
        "outputId": "1fa170a1-61f7-408a-b8da-52a2857dc126"
      },
      "outputs": [
        {
          "ename": "TypeError",
          "evalue": "'tuple' object does not support item assignment",
          "output_type": "error",
          "traceback": [
            "\u001b[1;31m---------------------------------------------------------------------------\u001b[0m",
            "\u001b[1;31mTypeError\u001b[0m                                 Traceback (most recent call last)",
            "Cell \u001b[1;32mIn[51], line 2\u001b[0m\n\u001b[0;32m      1\u001b[0m \u001b[38;5;66;03m# al querer acceder al elemento 1 y quererle asignar un nuevo valor no se puede\u001b[39;00m\n\u001b[1;32m----> 2\u001b[0m mi_primer_tupla[\u001b[38;5;241m1\u001b[39m] \u001b[38;5;241m=\u001b[39m \u001b[38;5;241m30\u001b[39m\n",
            "\u001b[1;31mTypeError\u001b[0m: 'tuple' object does not support item assignment"
          ]
        }
      ],
      "source": [
        "# al querer acceder al elemento 1 y quererle asignar un nuevo valor no se puede\n",
        "mi_primer_tupla[1] = 30"
      ]
    },
    {
      "cell_type": "code",
      "execution_count": null,
      "metadata": {
        "id": "7vA1NjEPIhH6"
      },
      "outputs": [],
      "source": [
        "tuple(mi_primera_lista)"
      ]
    },
    {
      "cell_type": "code",
      "execution_count": null,
      "metadata": {
        "id": "um6LDPt2IhH6"
      },
      "outputs": [],
      "source": [
        "mi_primer_tupla = list(mi_primer_tupla)"
      ]
    },
    {
      "cell_type": "code",
      "execution_count": null,
      "metadata": {
        "id": "hhRKAMA8IhH7"
      },
      "outputs": [],
      "source": [
        "type(mi_primer_tupla)"
      ]
    },
    {
      "cell_type": "code",
      "execution_count": null,
      "metadata": {
        "id": "lbOsCUsOIhH7"
      },
      "outputs": [],
      "source": [
        "mi_primer_tupla = tuple(mi_primer_tupla)"
      ]
    },
    {
      "cell_type": "code",
      "execution_count": null,
      "metadata": {
        "id": "51xzPTZuIhH7"
      },
      "outputs": [],
      "source": [
        "type(mi_primer_tupla)"
      ]
    },
    {
      "cell_type": "code",
      "execution_count": null,
      "metadata": {
        "id": "lFdMvRHuIhH7"
      },
      "outputs": [],
      "source": [
        "mi_primer_tupla"
      ]
    },
    {
      "cell_type": "markdown",
      "metadata": {
        "id": "-tENIbIMIhH7"
      },
      "source": [
        "## Diccionarios\n",
        "A diferencia de las listas, los diccionarios no tienen orden, sin embargo, utilizan llaves y valores a especie de catálago para guardar los datos. No pueden existir dos llaves iguales."
      ]
    },
    {
      "cell_type": "code",
      "execution_count": null,
      "metadata": {
        "id": "gztiDcPwIhH7"
      },
      "outputs": [],
      "source": [
        "mi_primer_dic = {'llave1': 1,\n",
        "                 'llave2': 2,\n",
        "                 'llave3': 3,\n",
        "                 'llave4': 1,}   # Se representa por key: values"
      ]
    },
    {
      "cell_type": "code",
      "execution_count": null,
      "metadata": {
        "id": "2M-ynQt4IhH7"
      },
      "outputs": [],
      "source": [
        "mi_primer_dic"
      ]
    },
    {
      "cell_type": "code",
      "execution_count": null,
      "metadata": {
        "id": "d6TlRZmDIhH7"
      },
      "outputs": [],
      "source": [
        "print(mi_primer_dic.get('llave1')) # manera de obtener el valor de una llave"
      ]
    },
    {
      "cell_type": "code",
      "execution_count": null,
      "metadata": {
        "id": "c5MQPnhYIhH7"
      },
      "outputs": [],
      "source": [
        "mi_primer_dic.items()  #vista de elementos de la lista"
      ]
    },
    {
      "cell_type": "code",
      "execution_count": null,
      "metadata": {
        "id": "t2XAvvIFIhH7"
      },
      "outputs": [],
      "source": [
        "mi_primer_dic.keys()"
      ]
    },
    {
      "cell_type": "code",
      "execution_count": null,
      "metadata": {
        "id": "2dFiu3RzIhH7"
      },
      "outputs": [],
      "source": [
        "mi_primer_dic.values()"
      ]
    },
    {
      "cell_type": "code",
      "execution_count": null,
      "metadata": {
        "id": "tjT3101HIhH7"
      },
      "outputs": [],
      "source": [
        "# otra manera de generar diccionarios\n",
        "a = dict(b = 1, f = 2, s = 78786)\n",
        "print(a)"
      ]
    },
    {
      "cell_type": "markdown",
      "metadata": {
        "id": "PBcg4G5jIhH7"
      },
      "source": [
        "## Ejercicio\n",
        "\n",
        "Crear un diccionario donde la llave sea el nombre de 3 personas y el valor sea su edad"
      ]
    },
    {
      "cell_type": "code",
      "execution_count": null,
      "metadata": {
        "id": "80etp3jEIhH7"
      },
      "outputs": [],
      "source": [
        "DiccionarioPersonas = dict(Bernardo = 29, Lili = 24, Mariana = 23)"
      ]
    },
    {
      "cell_type": "code",
      "execution_count": null,
      "metadata": {
        "id": "6IyZzO2wIhH7"
      },
      "outputs": [],
      "source": [
        "DiccionarioPersonas.items()"
      ]
    },
    {
      "cell_type": "markdown",
      "metadata": {
        "id": "QzcfMhMqIhH7"
      },
      "source": [
        "---------------------"
      ]
    },
    {
      "cell_type": "markdown",
      "metadata": {
        "id": "8_t4YJ6nIhH8"
      },
      "source": [
        "# Estructuras de Control\n",
        "\n",
        "Permiten modificar el flujo de ejecución de las instrucciones en un programa.\n",
        "\n"
      ]
    },
    {
      "cell_type": "markdown",
      "metadata": {
        "id": "U03Q49pXIhH8"
      },
      "source": [
        "## condicionales\n",
        "\n",
        "Los condicionales son estructuras de control de flujo en programación que permiten tomar decisiones basadas en ciertas condiciones. Estas condiciones determinan la ejecución de bloques de código específicos. En Python, los condicionales se implementan principalmente a través de las instrucciones if, elif (else if), y else"
      ]
    },
    {
      "cell_type": "code",
      "execution_count": null,
      "metadata": {
        "id": "4t7qmKr3IhH8"
      },
      "outputs": [],
      "source": [
        "if condicion:\n",
        "    # Bloque de código a ejecutar si la condición es verdadera\n",
        "    # Pueden haber múltiples líneas de código aquí\n",
        "\n",
        "elif otra_condicion:\n",
        "    # Bloque de código a ejecutar si la primera condición es falsa y esta es verdadera\n",
        "    # Pueden haber múltiples líneas de código aquí\n",
        "\n",
        "else:\n",
        "    # Bloque de código a ejecutar si todas las condiciones anteriores son falsas\n",
        "    # Pueden haber múltiples líneas de código aquí"
      ]
    },
    {
      "cell_type": "code",
      "execution_count": null,
      "metadata": {
        "id": "sA6yc4JCIhH8"
      },
      "outputs": [],
      "source": [
        "edad = 18\n",
        "\n",
        "if edad < 18:\n",
        "    print(\"Eres menor de edad.\")\n",
        "elif edad == 18:\n",
        "    print(\"Tienes exactamente 18 años.\")\n",
        "else:\n",
        "    print(\"Eres mayor de edad.\")\n"
      ]
    },
    {
      "cell_type": "markdown",
      "metadata": {
        "id": "4vA04U11IhH8"
      },
      "source": [
        "## Ejercicio\n",
        "\n",
        "Determinar si un número es positivo, negativo o cero y escribe el resultado"
      ]
    },
    {
      "cell_type": "code",
      "execution_count": null,
      "metadata": {
        "id": "CgFw85jkIhH8"
      },
      "outputs": [],
      "source": [
        "numero = int(input(\"Ingrese el número deseado: \"))\n",
        "\n",
        "if numero > 0:\n",
        "    print(\"El número es positivo\")\n",
        "elif numero == 0:\n",
        "    print(\"El número es cero.\")\n",
        "else:\n",
        "    print(\"El número es negativo.\")"
      ]
    },
    {
      "cell_type": "markdown",
      "metadata": {
        "id": "nGmrm9PQIhH8"
      },
      "source": [
        "Determinar si un numero es par o impar"
      ]
    },
    {
      "cell_type": "code",
      "execution_count": null,
      "metadata": {
        "id": "MZtRfA2ZIhH8"
      },
      "outputs": [],
      "source": [
        "Numero = float(input(\"Ingrese el número deseado: \"))\n",
        "\n",
        "if Numero%2 == 0:\n",
        "    print(\"El número es par\")\n",
        "else:\n",
        "    print(\"El número es impar.\")"
      ]
    },
    {
      "cell_type": "markdown",
      "metadata": {
        "id": "cyw61HBBIhH8"
      },
      "source": [
        "## Ciclo For (iterador)\n",
        "\n",
        "Se utiliza para repetir un bloque de código varias veces. La delcaración de un For itera sobre los valores de una secuencia en orden, ejecutando el bloque de código."
      ]
    },
    {
      "cell_type": "raw",
      "metadata": {
        "id": "hxT_MbehIhH8"
      },
      "source": [
        "for variable in elemento_iterable (lista, cadena de caracteres, range, etc.):\n",
        "    cuerpo del bucle (operaciones)"
      ]
    },
    {
      "cell_type": "code",
      "execution_count": null,
      "metadata": {
        "id": "p4iOlBV0IhH8"
      },
      "outputs": [],
      "source": [
        "list(range(10))"
      ]
    },
    {
      "cell_type": "code",
      "execution_count": null,
      "metadata": {
        "id": "Qc7yf-HOIhH8"
      },
      "outputs": [],
      "source": [
        "# imprimir primeros 10 numeros desde el 0.\n",
        "for loquesea in range(10):\n",
        "    print(loquesea)"
      ]
    },
    {
      "cell_type": "code",
      "execution_count": null,
      "metadata": {
        "id": "wM0U6aoyIhH8"
      },
      "outputs": [],
      "source": [
        "suma = 0\n",
        "\n",
        "for i in range(10):\n",
        "    print(i, suma)\n",
        "    suma = suma + i\n",
        "    print(i, suma)\n",
        "    print('///'*20)\n",
        "\n",
        "print('suma total de los primero n numeros: \\n',suma)\n",
        "\n",
        "#que es lo mismo a (n*(n+1))/2\n",
        "(9*10)/2"
      ]
    },
    {
      "cell_type": "markdown",
      "metadata": {
        "id": "dOZZXP_TIhH8"
      },
      "source": [
        "## Ejercicio\n",
        "+ Crear lista vacía\n",
        "+ Rellenar la lista con los primeros 5 elementos de *lista_nueva*."
      ]
    },
    {
      "cell_type": "code",
      "execution_count": null,
      "metadata": {
        "id": "BLUgV_0QIhH8"
      },
      "outputs": [],
      "source": [
        "lista_nueva = [0, 1, 5, 2, 3, 6, 9, 8, 9, 10]"
      ]
    },
    {
      "cell_type": "markdown",
      "metadata": {
        "id": "Tkj5o6nZIhH9"
      },
      "source": [
        "---"
      ]
    },
    {
      "cell_type": "code",
      "execution_count": null,
      "metadata": {
        "id": "djv2IPiQIhH9",
        "outputId": "0cf6a5c3-a4c1-4fab-f6e2-f9d61dbe33e7"
      },
      "outputs": [
        {
          "name": "stdout",
          "output_type": "stream",
          "text": [
            "[0, 1, 5, 2, 3]\n"
          ]
        }
      ],
      "source": [
        "ListaVacia=[]\n",
        "for i in range(5):\n",
        " ListaVacia.append(lista_nueva[i])\n",
        "\n",
        "print(ListaVacia)"
      ]
    },
    {
      "cell_type": "markdown",
      "metadata": {
        "id": "-z2x_JihIhH9"
      },
      "source": [
        "## Ciclo while\n",
        "\n",
        "El ciclo while en Python es otra estructura de control de flujo que se utiliza para repetir un bloque de código mientras una condición sea verdadera. A diferencia del ciclo for, el ciclo while no depende de una secuencia predefinida; en cambio, se ejecuta mientras una condición sea verdadera."
      ]
    },
    {
      "cell_type": "code",
      "execution_count": null,
      "metadata": {
        "id": "dJTIiKsXIhH9"
      },
      "outputs": [],
      "source": [
        "while condicion:\n",
        "    # Bloque de código a ejecutar mientras la condición sea verdadera\n"
      ]
    },
    {
      "cell_type": "code",
      "execution_count": null,
      "metadata": {
        "id": "cy-fUXJPIhH9"
      },
      "outputs": [],
      "source": [
        "contador = 0\n",
        "\n",
        "while contador < 5:\n",
        "    print(\"El contador es:\", contador)\n",
        "    contador += 1\n"
      ]
    },
    {
      "cell_type": "code",
      "execution_count": null,
      "metadata": {
        "id": "jybcjlaJIhH9"
      },
      "outputs": [],
      "source": [
        "# Ejemplo de ciclo while con entrada del usuario\n",
        "respuesta = input(\"¿Quieres continuar? (s/n): \")\n",
        "while respuesta == 's':\n",
        "    print(\"Realizando alguna tarea...\")\n",
        "    respuesta = input(\"¿Quieres continuar? (s/n): \")\n",
        "\n",
        "print(\"Fin del programa.\")\n"
      ]
    },
    {
      "cell_type": "markdown",
      "metadata": {
        "id": "7p2h2c8IIhH9"
      },
      "source": [
        "\n",
        "## Ejercicio\n",
        "Solicitar al usuario ingresar números y sumarlos hasta que la suma sea mayor que 100\n"
      ]
    },
    {
      "cell_type": "markdown",
      "metadata": {
        "id": "5RVRufhuIhH9"
      },
      "source": [
        "----"
      ]
    },
    {
      "cell_type": "code",
      "execution_count": null,
      "metadata": {
        "id": "vtY-pHG4IhH9",
        "outputId": "3b1310e9-9261-4e40-c804-3d5786fbbacc"
      },
      "outputs": [
        {
          "name": "stdout",
          "output_type": "stream",
          "text": [
            "Ingrese el número: 5\n",
            "Realizando suma....> acumulado:  5.0\n",
            "Ingrese el número: 1\n",
            "Realizando suma....> acumulado:  6.0\n",
            "Ingrese el número: 2\n",
            "Realizando suma....> acumulado:  8.0\n",
            "Ingrese el número: 6\n",
            "Realizando suma....> acumulado:  14.0\n",
            "Ingrese el número: 9\n",
            "Realizando suma....> acumulado:  23.0\n",
            "Ingrese el número: 4\n",
            "Realizando suma....> acumulado:  27.0\n",
            "Ingrese el número: 5\n",
            "Realizando suma....> acumulado:  32.0\n",
            "Ingrese el número: 2\n",
            "Realizando suma....> acumulado:  34.0\n",
            "Ingrese el número: 3\n",
            "Realizando suma....> acumulado:  37.0\n",
            "Ingrese el número: 15\n",
            "Realizando suma....> acumulado:  52.0\n",
            "Ingrese el número: 15\n",
            "Realizando suma....> acumulado:  67.0\n",
            "Ingrese el número: 10\n",
            "Realizando suma....> acumulado:  77.0\n",
            "Ingrese el número: 12\n",
            "Realizando suma....> acumulado:  89.0\n",
            "Ingrese el número: 4\n",
            "Realizando suma....> acumulado:  93.0\n",
            "Ingrese el número: 3\n",
            "Realizando suma....> acumulado:  96.0\n",
            "Ingrese el número: 1\n",
            "Realizando suma....> acumulado:  97.0\n",
            "Ingrese el número: 2\n",
            "Realizando suma....> acumulado:  99.0\n",
            "Ingrese el número: 4\n",
            "Realizando suma....> acumulado:  103.0\n",
            "\n",
            " ********Se alcanzó una suma mayor a 100*********\n"
          ]
        }
      ],
      "source": [
        "\n",
        "\n",
        "suma=0\n",
        "while suma<100:\n",
        "    sumando=float(input(\"Ingrese el número: \"))\n",
        "    suma+= sumando\n",
        "    print(\"Realizando suma....> acumulado: \",suma)\n",
        "print(\"\\n ********Se alcanzó una suma mayor a 100*********\")"
      ]
    },
    {
      "cell_type": "markdown",
      "metadata": {
        "id": "CbcWB41tIhH9"
      },
      "source": [
        "## Funciones\n",
        "\n",
        "La palabra reservada __def__ se usa para definir funciones. Debe seguirle el nombre de la función en minúsculas y la lista de parámetros formales entre paréntesis. Las sentencias que forman el cuerpo de la función empiezan en la línea siguiente, y deben estar con sangría.\n",
        "\n",
        "Quiza desarrollamos algo que vamos a estar usando constantemente, entonces en lugar de rescribir el codigo, podemos generar una función que replique el código y llamarla una sola vez."
      ]
    },
    {
      "cell_type": "code",
      "execution_count": null,
      "metadata": {
        "id": "ZZiU97UyIhH9"
      },
      "outputs": [],
      "source": [
        "# Definir una función\n",
        "def nombre_de_la_funcion(parametros):\n",
        "   #Cuerpo de la funcion (Instrucciones)\n",
        "    #Bloque de codigo\n",
        "\n",
        "    return Valor_a_devolver\n",
        "\n",
        "\n"
      ]
    },
    {
      "cell_type": "code",
      "execution_count": null,
      "metadata": {
        "id": "H1WI4sdIIhH9",
        "outputId": "a283047e-7aa7-454c-ee9f-0cde909e25bc"
      },
      "outputs": [
        {
          "name": "stdout",
          "output_type": "stream",
          "text": [
            "Hola, Juan!\n"
          ]
        }
      ],
      "source": [
        "# Definir una función llamada saludar\n",
        "def saludar(nombre):\n",
        "    #Esta función imprime un saludo\n",
        "    print(f\"Hola, {nombre}!\")\n",
        "\n",
        "# Llamar a la función con un argumento\n",
        "saludar(\"Juan\")\n"
      ]
    },
    {
      "cell_type": "code",
      "execution_count": null,
      "metadata": {
        "id": "Ai1NIgTZIhH9",
        "outputId": "5188c2be-776a-44dc-e2da-728566aaf674"
      },
      "outputs": [
        {
          "data": {
            "text/plain": [
              "8"
            ]
          },
          "execution_count": 70,
          "metadata": {},
          "output_type": "execute_result"
        }
      ],
      "source": [
        "# Definir una función que suma dos números\n",
        "def suma(a, b):\n",
        "    #Esta función devuelve la suma de dos números.\n",
        "    resultado = a + b\n",
        "    return resultado\n",
        "\n",
        "# Llamar a la función con dos argumentos e imprimir el resultado\n",
        "suma(3, 5)\n",
        "\n"
      ]
    },
    {
      "cell_type": "markdown",
      "metadata": {
        "id": "Mkw4M6GHIhH-"
      },
      "source": [
        "## Ejercicio\n",
        "\n",
        "Haz una función que calcule el radio de un circulo"
      ]
    },
    {
      "cell_type": "markdown",
      "metadata": {
        "id": "7XKBx-V6IhH-"
      },
      "source": [
        "Escribe una funcion que devuelva la raiz cuadrada de un numero"
      ]
    },
    {
      "cell_type": "code",
      "execution_count": null,
      "metadata": {
        "id": "b12N_KeaIhH-"
      },
      "outputs": [],
      "source": [
        "def Radio(Area):\n",
        "    return math.sqrt(Area/math.pi)\n",
        "\n",
        "def Area(Radio):\n",
        "    return math.pi*Radio**2\n",
        "\n",
        "def Raiz(numeroX):\n",
        "    return numeroX**0.5"
      ]
    },
    {
      "cell_type": "code",
      "execution_count": null,
      "metadata": {
        "id": "UW87iyM1IhH-",
        "outputId": "0880fab6-d531-42f9-9b0b-5af18dbb7b7a"
      },
      "outputs": [
        {
          "data": {
            "text/plain": [
              "4.999999479889741"
            ]
          },
          "execution_count": 92,
          "metadata": {},
          "output_type": "execute_result"
        }
      ],
      "source": [
        "Radio(78.5398)"
      ]
    },
    {
      "cell_type": "code",
      "execution_count": null,
      "metadata": {
        "id": "07rqgsrJIhH-",
        "outputId": "7294c9c6-e3aa-40f1-f656-9d3dc51571e8"
      },
      "outputs": [
        {
          "data": {
            "text/plain": [
              "78.53981633974483"
            ]
          },
          "execution_count": 93,
          "metadata": {},
          "output_type": "execute_result"
        }
      ],
      "source": [
        "Area(5)"
      ]
    },
    {
      "cell_type": "code",
      "execution_count": null,
      "metadata": {
        "id": "fVnnudicIhH-",
        "outputId": "7dc04f39-0fb6-437b-97e8-6381b4f44c57"
      },
      "outputs": [
        {
          "data": {
            "text/plain": [
              "5.0"
            ]
          },
          "execution_count": 94,
          "metadata": {},
          "output_type": "execute_result"
        }
      ],
      "source": [
        "Raiz(25)"
      ]
    },
    {
      "cell_type": "code",
      "execution_count": null,
      "metadata": {
        "id": "z1Kr33LcIhH-"
      },
      "outputs": [],
      "source": []
    }
  ],
  "metadata": {
    "kernelspec": {
      "display_name": "Python 3 (ipykernel)",
      "language": "python",
      "name": "python3"
    },
    "language_info": {
      "codemirror_mode": {
        "name": "ipython",
        "version": 3
      },
      "file_extension": ".py",
      "mimetype": "text/x-python",
      "name": "python",
      "nbconvert_exporter": "python",
      "pygments_lexer": "ipython3",
      "version": "3.10.9"
    },
    "toc": {
      "base_numbering": 1,
      "nav_menu": {},
      "number_sections": true,
      "sideBar": true,
      "skip_h1_title": false,
      "title_cell": "Table of Contents",
      "title_sidebar": "Contents",
      "toc_cell": false,
      "toc_position": {},
      "toc_section_display": true,
      "toc_window_display": false
    },
    "varInspector": {
      "cols": {
        "lenName": 16,
        "lenType": 16,
        "lenVar": 40
      },
      "kernels_config": {
        "python": {
          "delete_cmd_postfix": "",
          "delete_cmd_prefix": "del ",
          "library": "var_list.py",
          "varRefreshCmd": "print(var_dic_list())"
        },
        "r": {
          "delete_cmd_postfix": ") ",
          "delete_cmd_prefix": "rm(",
          "library": "var_list.r",
          "varRefreshCmd": "cat(var_dic_list()) "
        }
      },
      "types_to_exclude": [
        "module",
        "function",
        "builtin_function_or_method",
        "instance",
        "_Feature"
      ],
      "window_display": false
    },
    "colab": {
      "provenance": []
    }
  },
  "nbformat": 4,
  "nbformat_minor": 0
}